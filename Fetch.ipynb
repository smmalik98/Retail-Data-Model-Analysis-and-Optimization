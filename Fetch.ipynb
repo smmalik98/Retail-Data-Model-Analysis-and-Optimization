{
 "cells": [
  {
   "cell_type": "code",
   "execution_count": 1,
   "id": "37417c86",
   "metadata": {},
   "outputs": [],
   "source": [
    "import json\n",
    "from datetime import datetime\n",
    "import requests\n",
    "import pandas as pd\n",
    "from sqlalchemy import create_engine"
   ]
  },
  {
   "cell_type": "code",
   "execution_count": 2,
   "id": "9f72e25e",
   "metadata": {},
   "outputs": [],
   "source": [
    "import json\n",
    "import sqlite3\n",
    "from datetime import datetime\n",
    "\n",
    "# read the json file\n",
    "def load_json_lines(filename):\n",
    "    records = []\n",
    "    with open(filename, 'r') as file:\n",
    "        for line in file:\n",
    "            # Assuming each line in the file is a separate JSON object\n",
    "            if line.strip():  # Skipping empty lines\n",
    "                records.append(json.loads(line))\n",
    "    return records\n",
    "\n",
    "from datetime import datetime\n",
    "\n",
    "def parse_date(unix_timestamp):\n",
    "    if unix_timestamp is not None:  # Check if the timestamp is not None\n",
    "        # Convert milliseconds to seconds and then to a datetime object\n",
    "        return datetime.utcfromtimestamp(unix_timestamp / 1000.0).strftime('%Y-%m-%d')\n",
    "    return None\n",
    "\n",
    "\n",
    "def insert_data(db_path, table_name, columns, data_records):\n",
    "    placeholders = ', '.join(['?'] * len(columns)) \n",
    "    column_headers = ', '.join(columns)\n",
    "    insert_query = f'INSERT OR IGNORE INTO {table_name} ({column_headers}) VALUES ({placeholders});'\n",
    "    with sqlite3.connect(db_path) as conn:\n",
    "        cur = conn.cursor()\n",
    "        cur.executemany(insert_query, data_records)\n",
    "        conn.commit()\n",
    "\n",
    "db_path = '/Users/smitmalik/Documents/fetch.db'"
   ]
  },
  {
   "cell_type": "code",
   "execution_count": 3,
   "id": "29c6b7a9",
   "metadata": {},
   "outputs": [],
   "source": [
    "# Load and transform Users data\n",
    "users_json = load_json_lines('/Users/smitmalik/Downloads/users.json')\n",
    "users = [\n",
    "    (\n",
    "        user['_id'].get('$oid', ''),  # Extracting the string representation of the ID\n",
    "        1 if user.get('active', False) else 0,  # Convert boolean to integer\n",
    "        parse_date(user.get('createdDate', {}).get('$date')) if user.get('createdDate', {}).get('$date') else None,  # Assuming parse_date returns a string\n",
    "        parse_date(user.get('lastLogin', {}).get('$date')) if user.get('lastLogin', {}).get('$date') else None,  # Assuming parse_date returns a string\n",
    "        user.get('role', ''),\n",
    "        user.get('signUpSource', ''),\n",
    "        user.get('state', '')\n",
    "    ) \n",
    "    for user in users_json\n",
    "]"
   ]
  },
  {
   "cell_type": "code",
   "execution_count": 4,
   "id": "90ef5928",
   "metadata": {},
   "outputs": [],
   "source": [
    "# Load and transform Brands data\n",
    "brands_json = load_json_lines('/Users/smitmalik/Downloads/brands.json')\n",
    "brands_records = [\n",
    "    (\n",
    "        brand.get('_id', {}).get('$oid', ''),  # Accessing nested '$oid' from '_id'\n",
    "        brand.get('barcode', ''),  # Directly accessing 'barcode'\n",
    "        brand.get('brandCode', ''),  # Directly accessing 'brandCode'\n",
    "        brand.get('category', ''),  # Directly accessing 'category'\n",
    "        brand.get('categoryCode', ''),  # Directly accessing 'categoryCode'\n",
    "        brand.get('cpg', {}).get('$id', {}).get('$oid', ''),  # Accessing nested '$oid' from '$id' which is nested inside 'cpg'\n",
    "        brand.get('name', ''),  # Directly accessing 'name'\n",
    "        brand.get('topBrand', False)  # Directly accessing 'topBrand' with default False\n",
    "    ) \n",
    "    for brand in brands_json\n",
    "]"
   ]
  },
  {
   "cell_type": "code",
   "execution_count": 5,
   "id": "9e0f7631",
   "metadata": {},
   "outputs": [],
   "source": [
    "# Load and transform Receipts data\n",
    "receipts_json = load_json_lines('/Users/smitmalik/Downloads/receipts.json')\n",
    "receipts_records = []\n",
    "items_records = []\n",
    "\n",
    "for receipt in receipts_json:\n",
    "    receipt_id = receipt.get('_id', {}).get('$oid', '')\n",
    "    receipts_records.append((\n",
    "        receipt_id,\n",
    "        receipt.get('bonusPointsEarned', 0),\n",
    "        receipt.get('bonusPointsEarnedReason', ''),\n",
    "        parse_date(receipt.get('createDate', {}).get('$date')),\n",
    "        parse_date(receipt.get('dateScanned', {}).get('$date')),\n",
    "        parse_date(receipt.get('finishedDate', {}).get('$date')),\n",
    "        parse_date(receipt.get('modifyDate', {}).get('$date')),\n",
    "        parse_date(receipt.get('pointsAwardedDate', {}).get('$date')),\n",
    "        float(receipt.get('pointsEarned', 0)),\n",
    "        parse_date(receipt.get('purchaseDate', {}).get('$date')),\n",
    "        receipt.get('purchasedItemCount', 0),\n",
    "        receipt.get('rewardsReceiptStatus', ''),\n",
    "        float(receipt.get('totalSpent', 0)),\n",
    "        receipt.get('userId', '')\n",
    "    ))\n",
    "\n",
    "    # Add item records\n",
    "    for item in receipt.get('rewardsReceiptItemList', []):\n",
    "        items_records.append((\n",
    "            receipt_id,\n",
    "            item.get('barcode', ''),\n",
    "            item.get('description', ''),\n",
    "            float(item.get('finalPrice', 0)),\n",
    "            float(item.get('itemPrice', 0)),\n",
    "            item.get('needsFetchReview', False),\n",
    "            item.get('partnerItemId', ''),\n",
    "            item.get('preventTargetGapPoints', False),\n",
    "            item.get('quantityPurchased', 0),\n",
    "            item.get('userFlaggedBarcode', ''),\n",
    "            item.get('userFlaggedNewItem', False),\n",
    "            float(item.get('userFlaggedPrice', 0)),\n",
    "            item.get('userFlaggedQuantity', 0),\n",
    "            item.get('userFlaggedDescription', 0)\n",
    "        ))"
   ]
  },
  {
   "cell_type": "markdown",
   "id": "4ba40669",
   "metadata": {},
   "source": [
    "### Insert data into the SQLite database"
   ]
  },
  {
   "cell_type": "code",
   "execution_count": 6,
   "id": "64629e92",
   "metadata": {},
   "outputs": [],
   "source": [
    "insert_data(db_path, 'user', ['_id', 'active', 'createdDate', 'lastLogin', 'role', 'signUpSource', 'state'], users)"
   ]
  },
  {
   "cell_type": "code",
   "execution_count": 7,
   "id": "15ffa549",
   "metadata": {},
   "outputs": [],
   "source": [
    "insert_data(db_path, 'brands', ['_id', 'barcode', 'brandCode', 'category', 'categoryCode', 'cpg_id'\n",
    "                               , 'name', 'topBrand'], brands_records)"
   ]
  },
  {
   "cell_type": "code",
   "execution_count": 8,
   "id": "0a1544ac",
   "metadata": {},
   "outputs": [],
   "source": [
    "insert_data(db_path, 'receipts', ['_id', 'bonusPointsEarned', 'bonusPointsEarnedReason', \n",
    "                                  'createDate', 'dateScanned', 'finishedDate', \n",
    "                                  'modifyDate', 'pointsAwardedDate', 'pointsEarned',\n",
    "                                  'purchaseDate', 'purchasedItemCount',\n",
    "                                  'rewardsReceiptStatus', 'totalSpent', 'userId'], receipts_records)"
   ]
  },
  {
   "cell_type": "code",
   "execution_count": 9,
   "id": "6d1b0488",
   "metadata": {},
   "outputs": [],
   "source": [
    "insert_data(db_path, 'receipt_items', \n",
    "            ['receipt_id', 'barcode', 'description', 'finalPrice', 'itemPrice', \n",
    "             'needsFetchRevie', 'partnerItemId', 'preventTargetGapPoints', \n",
    "             'quantityPurchased', 'userFlaggedBarcode', 'userFlaggedNewItem', \n",
    "             'userFlaggedPrice', 'userFlaggedQuantity', 'userFlaggedDescription'], \n",
    "            items_records)"
   ]
  },
  {
   "cell_type": "code",
   "execution_count": 10,
   "id": "174fbe14",
   "metadata": {},
   "outputs": [],
   "source": [
    "import sqlite3\n",
    "conn = sqlite3.connect('/Users/smitmalik/Documents/fetch.db') "
   ]
  },
  {
   "attachments": {},
   "cell_type": "markdown",
   "id": "0d6e892b",
   "metadata": {},
   "source": [
    "### When considering average spend from receipts with 'rewardsReceiptStatus’ of ‘Accepted’ or ‘Rejected’, which is greater?"
   ]
  },
  {
   "cell_type": "code",
   "execution_count": 11,
   "id": "a622d65f",
   "metadata": {},
   "outputs": [
    {
     "name": "stdout",
     "output_type": "stream",
     "text": [
      "('FINISHED', 80.85430501930502)\n",
      "('REJECTED', 23.326056338028184)\n"
     ]
    }
   ],
   "source": [
    "cursor = conn.cursor()\n",
    "query = \"\"\"\n",
    "SELECT rewardsReceiptStatus, AVG(totalSpent) AS average_spend\n",
    "FROM receipts\n",
    "WHERE (rewardsReceiptStatus = 'FINISHED') | (rewardsReceiptStatus = 'REJECTED')\n",
    "GROUP BY rewardsReceiptStatus;\n",
    "\"\"\"\n",
    "cursor.execute(query)\n",
    "rows = cursor.fetchall()\n",
    "for row in rows:\n",
    "    print(row)"
   ]
  },
  {
   "attachments": {},
   "cell_type": "markdown",
   "id": "29f1e0b7",
   "metadata": {},
   "source": [
    "### When considering total number of items purchased from receipts with 'rewardsReceiptStatus’ of ‘Accepted’ or ‘Rejected’, which is greater?"
   ]
  },
  {
   "cell_type": "code",
   "execution_count": 12,
   "id": "e852874b",
   "metadata": {},
   "outputs": [
    {
     "name": "stdout",
     "output_type": "stream",
     "text": [
      "('FINISHED', 8184)\n",
      "('REJECTED', 173)\n"
     ]
    }
   ],
   "source": [
    "cursor = conn.cursor()\n",
    "query = \"\"\"\n",
    "SELECT rewardsReceiptStatus, SUM(purchasedItemCount) AS total_items\n",
    "FROM receipts\n",
    "WHERE (rewardsReceiptStatus = 'FINISHED') | (rewardsReceiptStatus = 'REJECTED')\n",
    "GROUP BY rewardsReceiptStatus;\n",
    "\n",
    "\"\"\"\n",
    "cursor.execute(query)\n",
    "rows = cursor.fetchall()\n",
    "for row in rows:\n",
    "    print(row)"
   ]
  },
  {
   "cell_type": "markdown",
   "id": "acc87dd1",
   "metadata": {},
   "source": [
    "## The following questions have been answered, assuming that a direct link has been set a direct link between 'brands' and 'receipt_items' via a shared identifier like 'brandCode' or 'barcode'"
   ]
  },
  {
   "cell_type": "markdown",
   "id": "e134942a",
   "metadata": {},
   "source": [
    "### What are the top 5 brands by receipts scanned for most recent month? "
   ]
  },
  {
   "cell_type": "code",
   "execution_count": 13,
   "id": "02aeb87f",
   "metadata": {},
   "outputs": [],
   "source": [
    "# cursor = conn.cursor()\n",
    "# query = \"\"\"\n",
    "# SELECT b._id, b.name, COUNT(DISTINCT r._id) AS receipt_count\n",
    "# FROM brands b\n",
    "# JOIN receipt_items ri ON b.brandCode = ri.brandCode  -- using brandCode as the linking attribute\n",
    "# JOIN receipts r ON ri.receipt_id = r._id\n",
    "# WHERE r.dateScanned >= date('now', 'start of month', '-1 month') \n",
    "#       AND r.dateScanned < date('now', 'start of month')\n",
    "# GROUP BY b._id\n",
    "# ORDER BY receipt_count DESC\n",
    "# LIMIT 5;\n",
    "# \"\"\"\n",
    "# cursor.execute(query)\n",
    "# rows = cursor.fetchall()\n",
    "# for row in rows:\n",
    "#     print(row)"
   ]
  },
  {
   "cell_type": "markdown",
   "id": "deb1bf27",
   "metadata": {},
   "source": [
    "### How does the ranking of the top 5 brands by receipts scanned for the recent month compare to the ranking for the previous month?"
   ]
  },
  {
   "cell_type": "code",
   "execution_count": 14,
   "id": "59b88321",
   "metadata": {},
   "outputs": [],
   "source": [
    "# cursor = conn.cursor()\n",
    "# query = \"\"\"\n",
    "# WITH RecentMonth AS (\n",
    "#     SELECT b._id, COUNT(DISTINCT r._id) AS recent_receipt_count\n",
    "#     FROM brands b\n",
    "#     JOIN receipt_items ri ON b.brandCode = ri.brandCode  -- Using brandCode as the linking attribute\n",
    "#     JOIN Receipts r ON ri.receipt_id = r._id\n",
    "#     WHERE r.dateScanned >= date('now', 'start of month', '-1 month') \n",
    "#           AND r.dateScanned < date('now', 'start of month')\n",
    "#     GROUP BY b._id\n",
    "#     ORDER BY recent_receipt_count DESC\n",
    "#     LIMIT 5\n",
    "# ), PreviousMonth AS (\n",
    "#     SELECT b._id, COUNT(DISTINCT r._id) AS previous_receipt_count\n",
    "#     FROM brands b\n",
    "#     JOIN receipt_items ri ON b.brandCode = ri.brandCode  -- Using brandCode as the linking attribute\n",
    "#     JOIN receipts r ON ri.receipt_id = r._id\n",
    "#     WHERE r.dateScanned >= date('now', 'start of month', '-2 month') \n",
    "#           AND r.dateScanned < date('now', 'start of month', '-1 month')\n",
    "#     GROUP BY b._id\n",
    "#     ORDER BY previous_receipt_count DESC\n",
    "#     LIMIT 5\n",
    "# )\n",
    "# SELECT rm._id, rm.recent_receipt_count, pm.previous_receipt_count\n",
    "# FROM RecentMonth rm\n",
    "# LEFT JOIN PreviousMonth pm ON rm._id = pm._id;\n",
    "# \"\"\"\n",
    "# cursor.execute(query)\n",
    "# rows = cursor.fetchall()\n",
    "# for row in rows:\n",
    "#     print(row)"
   ]
  },
  {
   "cell_type": "markdown",
   "id": "64b5fdc5",
   "metadata": {},
   "source": [
    "### Which brand has the most spend among users who were created within the past 6 months?"
   ]
  },
  {
   "cell_type": "code",
   "execution_count": 15,
   "id": "ac6bc633",
   "metadata": {},
   "outputs": [],
   "source": [
    "# cursor = conn.cursor()\n",
    "# query = \"\"\"\n",
    "# SELECT b._id, b.name, SUM(r.totalSpent) AS total_spend\n",
    "# FROM brands b\n",
    "# JOIN receipt_items ri ON b.brandCode = ri.brandCode  -- Using brandCode as the linking attribute\n",
    "# JOIN receipts r ON ri.receipt_id = r._id\n",
    "# JOIN users u ON r.userId = u._id  -- Correct table name should be 'Users', not 'user'\n",
    "# WHERE u.createdDate > date('now', '-6 months')\n",
    "# GROUP BY b._id\n",
    "# ORDER BY total_spend DESC\n",
    "# LIMIT 1;\n",
    "# \"\"\"\n",
    "# cursor.execute(query)\n",
    "# rows = cursor.fetchall()\n",
    "# for row in rows:\n",
    "#     print(row)"
   ]
  },
  {
   "cell_type": "markdown",
   "id": "1e9bb30c",
   "metadata": {},
   "source": [
    "### Which brand has the most transactions among users who were created within the past 6 months?"
   ]
  },
  {
   "cell_type": "code",
   "execution_count": 16,
   "id": "a86f7516",
   "metadata": {},
   "outputs": [],
   "source": [
    "# cursor = conn.cursor()\n",
    "# query = \"\"\"\n",
    "# SELECT b._id, b.name, COUNT(DISTINCT r._id) AS transaction_count\n",
    "# FROM brands b\n",
    "# JOIN receipt_items ri ON b.brandCode = ri.brandCode  -- Assuming brandCode links Receipt_Items to Brands\n",
    "# JOIN receipts r ON ri.receipt_id = r._id\n",
    "# JOIN users u ON r.userId = u._id  -- Ensure the table name is correct, typically 'Users', not 'user'\n",
    "# WHERE u.createdDate > date('now', '-6 months')\n",
    "# GROUP BY b._id\n",
    "# ORDER BY transaction_count DESC\n",
    "# LIMIT 1;\n",
    "# \"\"\"\n",
    "# cursor.execute(query)\n",
    "# rows = cursor.fetchall()\n",
    "# for row in rows:\n",
    "#     print(row)"
   ]
  }
 ],
 "metadata": {
  "kernelspec": {
   "display_name": "Python 3 (ipykernel)",
   "language": "python",
   "name": "python3"
  },
  "language_info": {
   "codemirror_mode": {
    "name": "ipython",
    "version": 3
   },
   "file_extension": ".py",
   "mimetype": "text/x-python",
   "name": "python",
   "nbconvert_exporter": "python",
   "pygments_lexer": "ipython3",
   "version": "3.9.12"
  }
 },
 "nbformat": 4,
 "nbformat_minor": 5
}
